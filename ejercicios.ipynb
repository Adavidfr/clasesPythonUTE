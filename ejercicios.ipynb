{
  "nbformat": 4,
  "nbformat_minor": 0,
  "metadata": {
    "colab": {
      "provenance": [],
      "authorship_tag": "ABX9TyMa5yNFKFYiPQEFBuOYVIBb",
      "include_colab_link": true
    },
    "kernelspec": {
      "name": "python3",
      "display_name": "Python 3"
    },
    "language_info": {
      "name": "python"
    }
  },
  "cells": [
    {
      "cell_type": "markdown",
      "metadata": {
        "id": "view-in-github",
        "colab_type": "text"
      },
      "source": [
        "<a href=\"https://colab.research.google.com/github/Adavidfr/clasesPythonUTE/blob/main/ejercicios.ipynb\" target=\"_parent\"><img src=\"https://colab.research.google.com/assets/colab-badge.svg\" alt=\"Open In Colab\"/></a>"
      ]
    },
    {
      "cell_type": "code",
      "execution_count": null,
      "metadata": {
        "id": "lgQ97aOeAceT"
      },
      "outputs": [],
      "source": []
    },
    {
      "cell_type": "markdown",
      "source": [
        "# Juego de Lanzamiento de Dados\n",
        "\n",
        "Este script simula un juego donde dos jugadores lanzan un dado. El jugador con el número más alto gana.\n",
        "\n",
        "## Funcionamiento\n",
        "\n",
        "1. El programa solicita los nombres de los dos jugadores.\n",
        "2. Cada jugador lanza un dado al presionar Enter. El dado se simula con un número aleatorio entre 1 y 6.\n",
        "3. El programa compara los resultados:\n",
        "   - Si el `jugador1` tiene un número mayor, gana.\n",
        "   - Si el `jugador2` tiene un número mayor, gana.\n",
        "   - Si ambos tienen el mismo número, hay un empate.\n"
      ],
      "metadata": {
        "id": "omQTcoPVDPp7"
      }
    },
    {
      "cell_type": "code",
      "source": [
        "import random\n",
        "\n",
        "jugador1 = input(\"Ingrese el nombre del jugador 1: \")\n",
        "jugador2 = input(\"Ingrese el nombre del jugador 2: \")\n",
        "\n",
        "input(f\"{jugador1} presiona enter para lanzar el dado\")\n",
        "\n",
        "lanzamientoJugador1 = random.randint(1,6)\n",
        "print(f\"{jugador1} sacaste {lanzamientoJugador1}\")\n",
        "\n",
        "input(f\"{jugador2} presiona enter para lanzar el dado\")\n",
        "\n",
        "lanzamientoJugador2 = random.randint(1,6)\n",
        "print(f\"{jugador2} sacaste {lanzamientoJugador2}\")\n",
        "\n",
        "if lanzamientoJugador1 > lanzamientoJugador2:\n",
        "    print(f\"El ganador es {jugador1}\")\n",
        "elif lanzamientoJugador1 < lanzamientoJugador2:\n",
        "    print(f\"El ganador es {jugador2}\")\n",
        "else:\n",
        "    print(f\"{jugador1} y {jugador2} empataron\")"
      ],
      "metadata": {
        "colab": {
          "base_uri": "https://localhost:8080/"
        },
        "id": "PuogS-9OArrF",
        "outputId": "8fbe27cf-0871-4688-c5f6-482fec31360a"
      },
      "execution_count": 1,
      "outputs": [
        {
          "output_type": "stream",
          "name": "stdout",
          "text": [
            "Ingrese el nombre del jugador 1: david\n",
            "Ingrese el nombre del jugador 2: eliu\n",
            "david presiona enter para lanzar el dado\n",
            "david sacaste 1\n",
            "eliu presiona enter para lanzar el dado\n",
            "eliu sacaste 2\n",
            "El ganador es eliu\n"
          ]
        }
      ]
    },
    {
      "cell_type": "markdown",
      "source": [
        "# Validación de Nota de Examen y Asistencias\n",
        "\n",
        "Este script verifica la validez de la nota de examen y evalúa si un estudiante aprueba o reprueba, teniendo en cuenta tanto la nota como las inasistencias.\n",
        "\n",
        "## Funcionamiento\n",
        "\n",
        "1. El programa solicita la **nota de examen**. Si la nota es válida (entre 0 y 10), continúa.\n",
        "2. Si la nota es válida, pide las **inasistencias**.\n",
        "3. El estudiante **aprueba** si:\n",
        "   - La nota es 8 o más.\n",
        "   - Las inasistencias son menos de 3.\n",
        "4. En caso contrario, el estudiante **reprobará**.\n",
        "5. Si la nota no es válida, el programa informa que solo se permiten notas entre 0 y 10."
      ],
      "metadata": {
        "id": "hLNyrnPZExVB"
      }
    },
    {
      "cell_type": "code",
      "source": [
        "notaExamen = int(input(\"Ingrese su nota de examen: \"))\n",
        "\n",
        "if notaExamen <= 10 and notaExamen >= 0:\n",
        "    print(\"Es una nota válida\")\n",
        "    inasistencias = int(input(\"Ingrese cuantas veces a faltado a clases: \"))\n",
        "    if inasistencias < 3 and notaExamen >= 8:\n",
        "        print(\"APROBADO\")\n",
        "    else:\n",
        "        print(\"REPROBADO\")\n",
        "\n",
        "else:\n",
        "    print(\"Solo se permiten notas entre 1 y 10\")\n",
        "\n",
        "print(\"FIN DEL PROGRAMA\")"
      ],
      "metadata": {
        "colab": {
          "base_uri": "https://localhost:8080/"
        },
        "id": "uvZ0iFWlEh-i",
        "outputId": "25cdb650-9dd6-4dcf-9cd1-1f5ea4b96a8b"
      },
      "execution_count": 2,
      "outputs": [
        {
          "output_type": "stream",
          "name": "stdout",
          "text": [
            "Ingrese su nota de examen: 8\n",
            "Es una nota válida\n",
            "Ingrese cuantas veces a faltado a clases: 1\n",
            "APROBADO\n",
            "FIN DEL PROGRAMA\n"
          ]
        }
      ]
    }
  ]
}